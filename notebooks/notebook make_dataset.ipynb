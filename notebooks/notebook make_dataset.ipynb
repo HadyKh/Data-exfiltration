{
 "cells": [
  {
   "cell_type": "code",
   "execution_count": 15,
   "id": "b37445f3",
   "metadata": {},
   "outputs": [],
   "source": [
    "import click\n",
    "import os\n",
    "from pathlib import Path\n",
    "import logging\n",
    "from dotenv import find_dotenv, load_dotenv\n",
    "import sys\n",
    "sys.path.append('..')\n",
    "from features import build_features\n",
    "from models import predict_model, train_model\n",
    "import pandas as pd"
   ]
  },
  {
   "cell_type": "code",
   "execution_count": null,
   "id": "7acb5ad7",
   "metadata": {},
   "outputs": [],
   "source": [
    "@click.command()\n",
    "@click.argument('input_filepath', type=click.Path(exists=True))\n",
    "@click.argument('output_filepath', type=click.Path())\n",
    "def main(input_filepath, output_filepath):\n",
    "    \"\"\" Runs data processing scripts to turn raw data from (../raw) into\n",
    "        cleaned data ready to be analyzed (saved in ../processed).\n",
    "    \"\"\"\n",
    "    \n",
    "    logging.basicConfig(filename=f'{os.path.expanduser(\"~\")}\\\\Desktop\\\\logs\\\\build.log',\n",
    "                            filemode='a',\n",
    "                            format='%(asctime)s,%(msecs)d %(name)s %(levelname)s %(message)s',\n",
    "                            datefmt='%H:%M:%S',\n",
    "                            level=logging.INFO)\n",
    "    logger = logging.getLogger(__name__)\n",
    "    logger.info('making final data set from raw data')\n",
    "    \n",
    "    #getting features\n",
    "#     dataframe = make_dataset(domain, timestamp)\n",
    "#     return dataframe"
   ]
  },
  {
   "cell_type": "code",
   "execution_count": null,
   "id": "44eae14e",
   "metadata": {},
   "outputs": [],
   "source": [
    "def make_dataset(domain, timestamp):\n",
    "    \"\"\" returns a dataframe of of 15 columns of features\n",
    "    Parameters:\n",
    "        domain: domain name record\n",
    "        timestamp: time stamp of \n",
    "    \"\"\"\n",
    "    df = pd.DataFrame()\n",
    "    df['timestamp'] = [0] #build_features.time(timestamp)\n",
    "    df['FQDN_count'] = [build_features.count_char(domain)]\n",
    "    df['subdomain_length'] = [build_features.subdomain_length(domain)]\n",
    "    df['upper'] = [build_features.count_upper(domain)]\n",
    "    df['lower'] = [build_features.count_lower(domain)]\n",
    "    df['numeric'] = [build_features.count_digits(domain)]\n",
    "    df['entropy'] = [build_features.entropy(domain)]\n",
    "    df['special'] = [build_features.count_special_character(domain)]\n",
    "    df['labels'] = [build_features.count_labels(domain)]\n",
    "    df['labels_max'] = [build_features.labels_max(domain)]\n",
    "    df['labels_average'] = [build_features.labels_average(domain)]\n",
    "    df['longest_word'] = [build_features.longest_word(domain)]\n",
    "    df['sld'] = [build_features.second_level_domain(domain)]\n",
    "    df['len'] = [build_features.length(domain)]\n",
    "    df['subdomain'] = [build_features.contain_subdomain(domain)]\n",
    "    \n",
    "    return df"
   ]
  },
  {
   "cell_type": "code",
   "execution_count": null,
   "id": "73e1c738",
   "metadata": {},
   "outputs": [],
   "source": [
    "# logging.basicConfig(filename=f'{os.path.expanduser(\"~\")}\\\\Desktop\\\\logs\\\\build.log',\n",
    "#                             filemode='a',\n",
    "#                             format='%(asctime)s,%(msecs)d %(name)s %(levelname)s %(message)s',\n",
    "#                             datefmt='%H:%M:%S',\n",
    "#                             level=logging.INFO)\n",
    "\n",
    "\n",
    "if __name__ == '__main__':\n",
    "    log_fmt = '%(asctime)s - %(name)s - %(levelname)s - %(message)s'\n",
    "    #logging.basicConfig(level=logging.INFO, format=log_fmt)\n",
    "\n",
    "    # not used in this stub but often useful for finding various files\n",
    "    #project_dir = Path(__file__).resolve().parents[2]\n",
    "\n",
    "    # find .env automagically by walking up directories until it's found, then\n",
    "    # load up the .env entries as environment variables\n",
    "    #load_dotenv(find_dotenv())\n",
    "\n",
    "    main()\n",
    "\n",
    "# consumer = KafkaConsumer(\n",
    "#     'ml-raw-dns',\n",
    "#     bootstrap_servers = ['localhost:9092'],\n",
    "#     auto_offset_reset = 'earliest',\n",
    "#     enable_auto_commit = False\n",
    "# )\n",
    "\n",
    "# for domain in consumer:\n",
    "#     dataframe = make_dataset.make_dataset(domain.value.decode(\"utf-8\"), 0)\n",
    "    "
   ]
  },
  {
   "cell_type": "code",
   "execution_count": 2,
   "id": "394379db",
   "metadata": {},
   "outputs": [
    {
     "name": "stdout",
     "output_type": "stream",
     "text": [
      "trainnnnnnnnnnnnnnnnnnn\n"
     ]
    }
   ],
   "source": [
    "data =  pd.read_csv(f'F:/Programming/Python/For Github/Cyber Security/Data Exfiltration via DNS/assignment2-HadyKh/src/models/training_dataset.csv')\n",
    "train_model.train_rf_model(data)"
   ]
  },
  {
   "cell_type": "code",
   "execution_count": 8,
   "id": "dd8fa5d4",
   "metadata": {},
   "outputs": [],
   "source": [
    "def add(df):\n",
    "    df['x'] = ['22']\n",
    "    df['i'] = ['44']\n",
    "    \n",
    "    return df"
   ]
  },
  {
   "cell_type": "code",
   "execution_count": 10,
   "id": "b99e29c3",
   "metadata": {},
   "outputs": [],
   "source": [
    "domain = 'fgjfgn'\n",
    "df = pd.DataFrame()\n",
    "df['domain'] = [domain]\n",
    "df = add(df)\n",
    "df['z'] = ['55']\n"
   ]
  },
  {
   "cell_type": "code",
   "execution_count": 13,
   "id": "b81a4304",
   "metadata": {},
   "outputs": [
    {
     "data": {
      "text/html": [
       "<div>\n",
       "<style scoped>\n",
       "    .dataframe tbody tr th:only-of-type {\n",
       "        vertical-align: middle;\n",
       "    }\n",
       "\n",
       "    .dataframe tbody tr th {\n",
       "        vertical-align: top;\n",
       "    }\n",
       "\n",
       "    .dataframe thead th {\n",
       "        text-align: right;\n",
       "    }\n",
       "</style>\n",
       "<table border=\"1\" class=\"dataframe\">\n",
       "  <thead>\n",
       "    <tr style=\"text-align: right;\">\n",
       "      <th></th>\n",
       "      <th>domain</th>\n",
       "      <th>x</th>\n",
       "      <th>i</th>\n",
       "      <th>z</th>\n",
       "    </tr>\n",
       "  </thead>\n",
       "  <tbody>\n",
       "    <tr>\n",
       "      <th>0</th>\n",
       "      <td>fgjfgn</td>\n",
       "      <td>22</td>\n",
       "      <td>44</td>\n",
       "      <td>55</td>\n",
       "    </tr>\n",
       "  </tbody>\n",
       "</table>\n",
       "</div>"
      ],
      "text/plain": [
       "   domain   x   i   z\n",
       "0  fgjfgn  22  44  55"
      ]
     },
     "execution_count": 13,
     "metadata": {},
     "output_type": "execute_result"
    }
   ],
   "source": [
    "df['domain'] = [domain]\n",
    "df = add(df)\n",
    "df['z'] = ['55']\n",
    "df"
   ]
  },
  {
   "cell_type": "code",
   "execution_count": 18,
   "id": "9b61c44d",
   "metadata": {},
   "outputs": [
    {
     "data": {
      "text/plain": [
       "{'index': [0],\n",
       " 'columns': ['timestamp',\n",
       "  'FQDN_count',\n",
       "  'subdomain_length',\n",
       "  'upper',\n",
       "  'lower',\n",
       "  'numeric',\n",
       "  'entropy',\n",
       "  'special',\n",
       "  'labels',\n",
       "  'labels_max',\n",
       "  'labels_average',\n",
       "  'longest_word',\n",
       "  'sld',\n",
       "  'len',\n",
       "  'subdomain'],\n",
       " 'data': [[0,\n",
       "   6,\n",
       "   0,\n",
       "   0,\n",
       "   6,\n",
       "   0,\n",
       "   1.9182958340544893,\n",
       "   0,\n",
       "   1,\n",
       "   6,\n",
       "   6.0,\n",
       "   6,\n",
       "   'fgjfgn',\n",
       "   6,\n",
       "   0]]}"
      ]
     },
     "execution_count": 18,
     "metadata": {},
     "output_type": "execute_result"
    }
   ],
   "source": [
    "df = pd.DataFrame()\n",
    "df['timestamp'] = [0] #build_features.time(timestamp)\n",
    "df['FQDN_count'] = [build_features.count_char(domain)]\n",
    "df['subdomain_length'] = [build_features.subdomain_length(domain)]\n",
    "df['upper'] = [build_features.count_upper(domain)]\n",
    "df['lower'] = [build_features.count_lower(domain)]\n",
    "df['numeric'] = [build_features.count_digits(domain)]\n",
    "df['entropy'] = [build_features.entropy(domain)]\n",
    "df['special'] = [build_features.count_special_character(domain)]\n",
    "df['labels'] = [build_features.count_labels(domain)]\n",
    "df['labels_max'] = [build_features.labels_max(domain)]\n",
    "df['labels_average'] = [build_features.labels_average(domain)]\n",
    "df['longest_word'] = [build_features.longest_word(domain)]\n",
    "df['sld'] = [build_features.second_level_domain(domain)]\n",
    "df['len'] = [build_features.length(domain)]\n",
    "df['subdomain'] = [build_features.contain_subdomain(domain)]\n",
    "df.to_dict('split')"
   ]
  },
  {
   "cell_type": "code",
   "execution_count": null,
   "id": "e04005b2",
   "metadata": {},
   "outputs": [],
   "source": []
  }
 ],
 "metadata": {
  "kernelspec": {
   "display_name": "Python 3 (ipykernel)",
   "language": "python",
   "name": "python3"
  },
  "language_info": {
   "codemirror_mode": {
    "name": "ipython",
    "version": 3
   },
   "file_extension": ".py",
   "mimetype": "text/x-python",
   "name": "python",
   "nbconvert_exporter": "python",
   "pygments_lexer": "ipython3",
   "version": "3.9.10"
  }
 },
 "nbformat": 4,
 "nbformat_minor": 5
}
