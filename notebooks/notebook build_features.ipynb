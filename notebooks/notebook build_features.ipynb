{
 "cells": [
  {
   "cell_type": "code",
   "execution_count": 1,
   "id": "d8042ba5",
   "metadata": {},
   "outputs": [],
   "source": [
    "import math\n",
    "import numpy as np\n",
    "import requests\n",
    "import re\n",
    "import os\n",
    "import logging\n",
    "import requests\n",
    "import tldextract\n",
    "import datetime\n",
    "from collections import Counter"
   ]
  },
  {
   "cell_type": "code",
   "execution_count": 2,
   "id": "73ef1252",
   "metadata": {},
   "outputs": [
    {
     "ename": "OSError",
     "evalue": "[Errno 22] Invalid argument",
     "output_type": "error",
     "traceback": [
      "\u001b[1;31m---------------------------------------------------------------------------\u001b[0m",
      "\u001b[1;31mOSError\u001b[0m                                   Traceback (most recent call last)",
      "\u001b[1;32m~\\AppData\\Local\\Temp/ipykernel_22652/3319371363.py\u001b[0m in \u001b[0;36m<module>\u001b[1;34m\u001b[0m\n\u001b[0;32m      7\u001b[0m     \u001b[1;31m#d = datetime.strptime(timestamp, '%H%M%S%f').isoformat()\u001b[0m\u001b[1;33m\u001b[0m\u001b[1;33m\u001b[0m\u001b[0m\n\u001b[0;32m      8\u001b[0m     \u001b[1;32mreturn\u001b[0m \u001b[0mdatetime\u001b[0m\u001b[1;33m.\u001b[0m\u001b[0mdatetime\u001b[0m\u001b[1;33m.\u001b[0m\u001b[0mfromtimestamp\u001b[0m\u001b[1;33m(\u001b[0m\u001b[0mtimestamp\u001b[0m\u001b[1;33m)\u001b[0m\u001b[1;33m.\u001b[0m\u001b[0mstrftime\u001b[0m\u001b[1;33m(\u001b[0m\u001b[1;34m'%Y - %m - %d  %H : %M : %S'\u001b[0m\u001b[1;33m)\u001b[0m\u001b[1;33m\u001b[0m\u001b[1;33m\u001b[0m\u001b[0m\n\u001b[1;32m----> 9\u001b[1;33m \u001b[0mtime\u001b[0m\u001b[1;33m(\u001b[0m\u001b[1;36m1646253647497\u001b[0m\u001b[1;33m)\u001b[0m\u001b[1;33m\u001b[0m\u001b[1;33m\u001b[0m\u001b[0m\n\u001b[0m",
      "\u001b[1;32m~\\AppData\\Local\\Temp/ipykernel_22652/3319371363.py\u001b[0m in \u001b[0;36mtime\u001b[1;34m(timestamp)\u001b[0m\n\u001b[0;32m      6\u001b[0m     \"\"\"\n\u001b[0;32m      7\u001b[0m     \u001b[1;31m#d = datetime.strptime(timestamp, '%H%M%S%f').isoformat()\u001b[0m\u001b[1;33m\u001b[0m\u001b[1;33m\u001b[0m\u001b[0m\n\u001b[1;32m----> 8\u001b[1;33m     \u001b[1;32mreturn\u001b[0m \u001b[0mdatetime\u001b[0m\u001b[1;33m.\u001b[0m\u001b[0mdatetime\u001b[0m\u001b[1;33m.\u001b[0m\u001b[0mfromtimestamp\u001b[0m\u001b[1;33m(\u001b[0m\u001b[0mtimestamp\u001b[0m\u001b[1;33m)\u001b[0m\u001b[1;33m.\u001b[0m\u001b[0mstrftime\u001b[0m\u001b[1;33m(\u001b[0m\u001b[1;34m'%Y - %m - %d  %H : %M : %S'\u001b[0m\u001b[1;33m)\u001b[0m\u001b[1;33m\u001b[0m\u001b[1;33m\u001b[0m\u001b[0m\n\u001b[0m\u001b[0;32m      9\u001b[0m \u001b[0mtime\u001b[0m\u001b[1;33m(\u001b[0m\u001b[1;36m1646253647497\u001b[0m\u001b[1;33m)\u001b[0m\u001b[1;33m\u001b[0m\u001b[1;33m\u001b[0m\u001b[0m\n",
      "\u001b[1;31mOSError\u001b[0m: [Errno 22] Invalid argument"
     ]
    }
   ],
   "source": [
    "#===================================================================================\n",
    "def time(timestamp): # Timestamp in dataset\n",
    "    \"\"\" Returns a string represents the time in terms of minutes and seconds\n",
    "    Parameters:\n",
    "        timestamp: timestamp which will be converted to time object\n",
    "    \"\"\"\n",
    "    #d = datetime.strptime(timestamp, '%H%M%S%f').isoformat()\n",
    "    return datetime.datetime.fromtimestamp(timestamp).strftime('%Y - %m - %d  %H : %M : %S')\n",
    "\n",
    "time(1646253647497)"
   ]
  },
  {
   "cell_type": "code",
   "execution_count": null,
   "id": "d66eed6b",
   "metadata": {},
   "outputs": [],
   "source": [
    "def count_digits(domain): # numeric in dataset\n",
    "    \"\"\" Returns an integer represents the number of digits in domain\n",
    "    Parameters:\n",
    "        domain: the domain name received in logs\n",
    "    \"\"\"\n",
    "    count = 0\n",
    "    for c in domain:\n",
    "        if c.isdigit():\n",
    "            count += 1\n",
    "    return count\n",
    "\n",
    "#count_digits('123the_champions_4.56.RealMadrid.com')"
   ]
  },
  {
   "cell_type": "code",
   "execution_count": null,
   "id": "9aad8232",
   "metadata": {},
   "outputs": [],
   "source": [
    "def count_char(domain): # FQDN in dataset\n",
    "    count = 0\n",
    "    for c in domain:\n",
    "        if c == '.':\n",
    "            continue\n",
    "        else:\n",
    "            count += 1\n",
    "    return count\n",
    "#count_letters('123the_cham pions_4.56.RealMadrid.com')"
   ]
  },
  {
   "cell_type": "code",
   "execution_count": null,
   "id": "df2955fc",
   "metadata": {},
   "outputs": [],
   "source": [
    "def count_labels(domain): # labels in dataset\n",
    "    \"\"\"Returns an integer represents the number of the labels\n",
    "    Parameters:\n",
    "        domain: the domain name received in logs\n",
    "    Example: \n",
    "        \"www.scholar.google.com\", there are four labels separated by dots\n",
    "    \"\"\"\n",
    "    count = 0 \n",
    "    for c in domain:\n",
    "        if c == '.':\n",
    "            count += 1\n",
    "    return count + 1\n",
    "#count_labels('www.scholar.google.com')"
   ]
  },
  {
   "cell_type": "code",
   "execution_count": null,
   "id": "203621fd",
   "metadata": {},
   "outputs": [],
   "source": [
    "def count_lower(domain):  # lower in dataset\n",
    "    \"\"\"Returns an integer represents the number of the lowercase letters\n",
    "    Parameters:\n",
    "        domain: the domain name received in logs\n",
    "    \"\"\"\n",
    "    count = 0\n",
    "    for c in domain:\n",
    "        if (c.islower()):\n",
    "            count += 1\n",
    "    return count\n",
    "#count_lower('123the_cham pions_4.56.RealMadrid.com')"
   ]
  },
  {
   "cell_type": "code",
   "execution_count": null,
   "id": "84fc40bf",
   "metadata": {},
   "outputs": [],
   "source": [
    "def count_upper(domain): # upper in dataset\n",
    "    \"\"\"Returns an integer represents the number of the uppercase letters\n",
    "    Parameters:\n",
    "        domain: the domain name received in logs\n",
    "    \"\"\"\n",
    "    count = 0\n",
    "    for c in domain:\n",
    "        if (c.isupper()):\n",
    "            count += 1\n",
    "    return count\n",
    "#count_upper('123the_cham pions_4.56.RealMadrid.com')"
   ]
  },
  {
   "cell_type": "code",
   "execution_count": null,
   "id": "b61f73ab",
   "metadata": {},
   "outputs": [],
   "source": [
    "def entropy(domain): # entropy in dataset\n",
    "    \"\"\" Returns the metric entropy (Shannon's entropy divided by string length)\n",
    "    Based on: https://kldavenport.com/detecting-randomly-generated-domains/\n",
    "    \"\"\"\n",
    "    counter, length = Counter(domain), np.float(len(domain)) \n",
    "    return -np.sum( val/length * np.log2(val/length) for val in counter.values())\n",
    "\n",
    "#entropy('123the_cham pions_4.56.RealMadrid.com')"
   ]
  },
  {
   "cell_type": "code",
   "execution_count": null,
   "id": "e55998a8",
   "metadata": {},
   "outputs": [],
   "source": [
    "def length(domain): # Len in dataset\n",
    "    \"\"\"Returns an integer represents the number of the total letters in \"doamin and subdomain\" only\n",
    "    Parameters:\n",
    "        domain: the domain name received in logs\n",
    "    \"\"\"\n",
    "    ex = tldextract.extract(domain)\n",
    "\n",
    "    return len(ex.domain) + len(ex.subdomain)\n",
    "    \n",
    "#length('123the_cham pions_4.56.RealMadrid.com')"
   ]
  },
  {
   "cell_type": "code",
   "execution_count": null,
   "id": "7f53a7a4",
   "metadata": {},
   "outputs": [],
   "source": [
    "def get_labels(domain):\n",
    "    return domain.split(sep = '.')\n",
    "\n",
    "def longest_word(domain): # longest_word in dataset\n",
    "    \"\"\"Returns an integer represents the number of letters in the longest word\n",
    "    Parameters:\n",
    "        domain: the domain name received in logs\n",
    "    \"\"\"\n",
    "    labels = get_labels(domain)\n",
    "    maximum = 0\n",
    "    for word in labels:\n",
    "        length = len(word)\n",
    "        if length > maximum:\n",
    "            maximum = length\n",
    "    return maximum\n",
    "\n",
    "#longest_word('123the_cham pions_4.56.RealMadrid.com')"
   ]
  },
  {
   "cell_type": "code",
   "execution_count": null,
   "id": "b9d93528",
   "metadata": {},
   "outputs": [],
   "source": [
    "\n",
    "\n",
    "def labels_max(domain): # labels_max in dataset\n",
    "    \n",
    "    labels = get_labels(domain)\n",
    "    num_words = len(labels)\n",
    "    \n",
    "    maximum = 0\n",
    "    for word in labels:\n",
    "        length = len(word)\n",
    "        if length > maximum:\n",
    "            maximum = length\n",
    "    return maximum\n",
    "\n",
    "#labels_max('123the_cham pions_4.56.RealMadrid.com')"
   ]
  },
  {
   "cell_type": "code",
   "execution_count": null,
   "id": "857229e9",
   "metadata": {},
   "outputs": [],
   "source": [
    "\n",
    "def labels_average(domain):# labels_average in dataset\n",
    "    \"\"\"Returns an integer represents the number of letters in the longest word\n",
    "    Parameters:\n",
    "        domain: the domain name received in logs\n",
    "    \"\"\"\n",
    "    labels = get_labels(domain)\n",
    "    num_words = len(labels)\n",
    "    \n",
    "    if num_words:\n",
    "        total = 0\n",
    "        for word in labels:\n",
    "            total += len(word)\n",
    "    else: return 0\n",
    "    \n",
    "    return total / num_words\n",
    "\n",
    "#labels_average('123the_cham pions_4.56.RealMadrid.com')"
   ]
  },
  {
   "cell_type": "code",
   "execution_count": null,
   "id": "93b7ae0f",
   "metadata": {},
   "outputs": [],
   "source": [
    "def contain_subdomain(domain): # subdomain in dataset\n",
    "    \"\"\"Returns 1 if there is a subdomain and 0 otherwise\n",
    "    Parameters:\n",
    "        domain: the domain name received in logs\n",
    "    \"\"\"\n",
    "    ex = tldextract.extract(domain)\n",
    "    if ex.subdomain:\n",
    "        return 1\n",
    "    else:\n",
    "        return 0\n",
    "#contain_subdomain('123the_cham pions_4.56.RealMadrid.com')"
   ]
  },
  {
   "cell_type": "code",
   "execution_count": null,
   "id": "c347931e",
   "metadata": {},
   "outputs": [],
   "source": [
    "def subdomain_length(domain): # subdomain_length in dataset\n",
    "    \"\"\"Returns an integer represents the number of chars in the subdomain\n",
    "    Parameters:\n",
    "        domain: the domain name received in logs\n",
    "    \"\"\"\n",
    "    if contain_subdomain(domain):\n",
    "        count = 0\n",
    "        ex = tldextract.extract(domain)\n",
    "        for c in ex.subdomain:\n",
    "            if c == '.':\n",
    "                continue\n",
    "            else: count += 1\n",
    "        return count\n",
    "    else: return 0\n",
    "    \n",
    "#subdomain_length('123the_cham pions_4.56.RealMadrid.com')"
   ]
  },
  {
   "cell_type": "code",
   "execution_count": null,
   "id": "3d727959",
   "metadata": {},
   "outputs": [],
   "source": [
    "def count_special_character(domain):\n",
    "    \"\"\"Returns an integer represents the number of special chars in domain\n",
    "    Parameters:\n",
    "        domain: the domain name received in logs\n",
    "    \"\"\"\n",
    "    count = 0\n",
    "    for c in domain:\n",
    "        if (32 <= ord(c) <= 47) or (58 <= ord(c) <= 64) or (91 <= ord(c) <= 96) or (123 <= ord(c) <= 126):\n",
    "            count += 1\n",
    "    return count\n",
    "\n",
    "#count_special_character('123the_cham pions_4.56.RealMadrid.com')"
   ]
  },
  {
   "cell_type": "code",
   "execution_count": null,
   "id": "fbfdbc0e",
   "metadata": {},
   "outputs": [],
   "source": [
    "def second_level_domain(domain): # SLD in dataset\n",
    "    \"\"\"Returns an string represents the subdomain\n",
    "    Parameters:\n",
    "        domain: the domain name received in logs\n",
    "    \"\"\"\n",
    "    return tldextract.extract(domain).domain\n",
    "#second_level_domain('123the_cham pions_4.56.RealMadrid.com')"
   ]
  },
  {
   "cell_type": "code",
   "execution_count": null,
   "id": "257ff961",
   "metadata": {},
   "outputs": [],
   "source": []
  }
 ],
 "metadata": {
  "kernelspec": {
   "display_name": "Python 3 (ipykernel)",
   "language": "python",
   "name": "python3"
  },
  "language_info": {
   "codemirror_mode": {
    "name": "ipython",
    "version": 3
   },
   "file_extension": ".py",
   "mimetype": "text/x-python",
   "name": "python",
   "nbconvert_exporter": "python",
   "pygments_lexer": "ipython3",
   "version": "3.9.10"
  }
 },
 "nbformat": 4,
 "nbformat_minor": 5
}
