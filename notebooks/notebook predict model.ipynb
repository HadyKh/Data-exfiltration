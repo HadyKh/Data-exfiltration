{
 "cells": [
  {
   "cell_type": "code",
   "execution_count": 1,
   "id": "8c93f18d",
   "metadata": {},
   "outputs": [],
   "source": [
    "import pickle"
   ]
  },
  {
   "cell_type": "code",
   "execution_count": 4,
   "id": "1fcf8c5f",
   "metadata": {},
   "outputs": [
    {
     "data": {
      "text/plain": [
       "RandomForestClassifier(bootstrap=False, n_estimators=2000, random_state=50)"
      ]
     },
     "execution_count": 4,
     "metadata": {},
     "output_type": "execute_result"
    }
   ],
   "source": [
    "# model = pickle.load(open('rf_model.pkl', 'rb'))\n",
    "# model"
   ]
  },
  {
   "cell_type": "code",
   "execution_count": null,
   "id": "4dbff623",
   "metadata": {},
   "outputs": [],
   "source": [
    "def __preprocess_data(df):\n",
    "    \"\"\"preprocessing data to used in fitting\n",
    "    parameters:\n",
    "        df: dataframe containing data to fit on\n",
    "    Return:\n",
    "        df: dataframe containing preprocessed data\n",
    "    \"\"\"\n",
    "    df = df.drop(['timestamp', 'sld', 'longest_word'], axis = 1)\n",
    "    return df\n",
    "\n",
    "\n",
    "def predict(data):\n",
    "    data = __preprocess_data(data)\n",
    "    model = pickle.load(open('rf_model.pkl', 'rb'))\n",
    "    pred = model.predict(data)\n",
    "    conf_score = model.predict_proba(data)\n",
    "    return pred, conf_score"
   ]
  }
 ],
 "metadata": {
  "kernelspec": {
   "display_name": "Python 3 (ipykernel)",
   "language": "python",
   "name": "python3"
  },
  "language_info": {
   "codemirror_mode": {
    "name": "ipython",
    "version": 3
   },
   "file_extension": ".py",
   "mimetype": "text/x-python",
   "name": "python",
   "nbconvert_exporter": "python",
   "pygments_lexer": "ipython3",
   "version": "3.9.10"
  }
 },
 "nbformat": 4,
 "nbformat_minor": 5
}
